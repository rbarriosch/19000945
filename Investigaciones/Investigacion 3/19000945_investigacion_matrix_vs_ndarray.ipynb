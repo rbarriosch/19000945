{
 "cells": [
  {
   "cell_type": "markdown",
   "metadata": {},
   "source": [
    "# Investigar y ejemplificar np.matrix vs np.ndarray"
   ]
  },
  {
   "cell_type": "code",
   "execution_count": 1,
   "metadata": {},
   "outputs": [],
   "source": [
    "import numpy as np"
   ]
  },
  {
   "cell_type": "markdown",
   "metadata": {},
   "source": [
    "## np.ndarray\n",
    "\n",
    "Este objeto se podría considerar el más importante de la biblioteca Numpy y corresponde a un arreglo N-dimensional. Dentro de él se pueden definir colecciones de items del mismo tipo de dato.\n",
    "\n",
    "Ejemplo de declaración:\n",
    "\n",
    "numpy.ndarray(shape, dtype=float, buffer=None, offset=0, strides=None, order=None)\n",
    "\n",
    "*Parámetros*:\n",
    "* shape: forma del nuevo array\n",
    "* dtype: cualquier objeto que pueda ser interpretado con un tipo de dato Numpy\n",
    "* buffer: se utiliza para llenar el arreglo con data\n",
    "* offset: corrimiento de la data del arreglo en memoria\n",
    "* strides: avance de los datos en memoria\n",
    "* order:  row-major o column-major\n",
    "\n",
    "### Ejemplo:"
   ]
  },
  {
   "cell_type": "code",
   "execution_count": 5,
   "metadata": {
    "scrolled": true
   },
   "outputs": [
    {
     "name": "stdout",
     "output_type": "stream",
     "text": [
      "<class 'numpy.ndarray'> \n",
      "\n",
      "[[1998 1999]\n",
      " [2013 2014]]\n"
     ]
    }
   ],
   "source": [
    "x = np.array([[1998, 1999], \n",
    "              [2013, 2014]])\n",
    "\n",
    "print(type(x), '\\n')\n",
    "print(x)"
   ]
  },
  {
   "cell_type": "markdown",
   "metadata": {},
   "source": [
    "## np.matrix\n",
    "\n",
    "Numpy también provee el objeto matrix, el cuál es una versión que hereda parcialmente las propiedades del ndarray y provee otras funcionalidades especiales para aplicar exclusivamente en arreglos de 2 dimensiones. Operaciones sobre este tipo devuelve un tipo matrix.\n",
    "\n",
    "En la página de SciPy.org recomiendan eliminar y evitar el uso de esta clase, ya que en el futuro será descontinuada. En su lugar sugieren el uso de ndarray.\n",
    "\n",
    "Ejemplo de declaración:\n",
    "\n",
    "numpy.matrix(data, dtype=None, copy=True)\n",
    "\n",
    "*Parámetros:*\n",
    "* data: recibe una cadena o una lista de listas con que formará el arreglo\n",
    "* dtype: tipo de dato que retorna la matriz\n",
    "* copy: variable boolean que determina si, en caso de que el parámetro *data* sea ndarray, la data es copiada o se construye una vista\n",
    "\n",
    "### Ejemplo:"
   ]
  },
  {
   "cell_type": "code",
   "execution_count": 7,
   "metadata": {},
   "outputs": [
    {
     "name": "stdout",
     "output_type": "stream",
     "text": [
      "<class 'numpy.matrixlib.defmatrix.matrix'> \n",
      "\n",
      "[[2015 2016]\n",
      " [2017 2018]]\n"
     ]
    }
   ],
   "source": [
    "y = np.matrix([[2015, 2016], [2017, 2018]])\n",
    "\n",
    "print(type(y), '\\n')\n",
    "print(y)"
   ]
  },
  {
   "cell_type": "markdown",
   "metadata": {},
   "source": [
    "## Similutudes y diferencias\n",
    "Ambas clases pueden ser utilizadas para manipular arreglos de 2 dimensiones, y es precisamente en este punto en donde radica su  diferencia, y es que el tipo de dato Ndarray es N-dimensional, mientras que Matrix sólo tiene alcance para arreglos 2D.\n",
    "\n",
    "El \"plus\" de la clase Matrix se encuentra en que su definición fue ampliada con operadores, como la multiplicación de matrices con * ,la potencia de matrices con ** , la notación sencilla para inversa de matrices, etc.\n",
    "\n",
    "*Atributos especiales de numpy.matrix*\n",
    "* H\tReturns the (complex) conjugate transpose of self.\n",
    "* I\tReturns the (multiplicative) inverse of invertible self.\n",
    "* T\tReturns the transpose of the matrix.\n",
    "\n",
    "*Métodos adicionales de numpy.matrix*\n",
    "* getA()\tReturn self as an ndarray object.\n",
    "* getA1()\tReturn self as a flattened ndarray.\n",
    "* getH()\tReturns the (complex) conjugate transpose of self.\n",
    "* getI()\tReturns the (multiplicative) inverse of invertible self.\n",
    "* getT()\tReturns the transpose of the matrix.\n"
   ]
  },
  {
   "cell_type": "markdown",
   "metadata": {},
   "source": [
    "#### Referencias\n",
    "\n",
    "* https://docs.scipy.org/doc/numpy/reference/generated/numpy.matrix.html\n",
    "* https://www.tutorialspoint.com/numpy/numpy_ndarray_object.htm\n",
    "* https://docs.scipy.org/doc/numpy/reference/generated/numpy.ndarray.html"
   ]
  }
 ],
 "metadata": {
  "kernelspec": {
   "display_name": "Python 3",
   "language": "python",
   "name": "python3"
  },
  "language_info": {
   "codemirror_mode": {
    "name": "ipython",
    "version": 3
   },
   "file_extension": ".py",
   "mimetype": "text/x-python",
   "name": "python",
   "nbconvert_exporter": "python",
   "pygments_lexer": "ipython3",
   "version": "3.6.7"
  }
 },
 "nbformat": 4,
 "nbformat_minor": 2
}
