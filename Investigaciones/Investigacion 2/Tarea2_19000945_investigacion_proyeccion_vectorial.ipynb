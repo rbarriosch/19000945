{
 "cells": [
  {
   "cell_type": "markdown",
   "metadata": {},
   "source": [
    "# Proyección vectorial\n",
    "\n",
    "En términos coloquiales, podemos decir que la proyección de un vector es la \"sombra\" que proyecta el vector sobre alguno de los ejes o sobre otro vector.\n",
    "\n",
    "\n",
    "#### Definir una ufunc para calcular proyección vectorial sobre vectores de Numpy"
   ]
  },
  {
   "cell_type": "code",
   "execution_count": 4,
   "metadata": {},
   "outputs": [],
   "source": [
    "import numpy as np"
   ]
  },
  {
   "cell_type": "code",
   "execution_count": 17,
   "metadata": {},
   "outputs": [],
   "source": [
    "# Definiendo la ufunc para proyeccion vectorial\n",
    "def proyeccion_vectorial(u,v):\n",
    "    return (u.dot(v)/np.power(np.linalg.norm(v),2))*v\n"
   ]
  },
  {
   "cell_type": "markdown",
   "metadata": {},
   "source": [
    "#### Utilizar vectores de ejemplo para validar la función"
   ]
  },
  {
   "cell_type": "code",
   "execution_count": 18,
   "metadata": {},
   "outputs": [
    {
     "name": "stdout",
     "output_type": "stream",
     "text": [
      "[ 0.24 -0.32]\n"
     ]
    }
   ],
   "source": [
    "# Vectores de ejemplo\n",
    "x = np.array([2,1])\n",
    "y = np.array([-3,4])\n",
    "\n",
    "print(proyeccion_vectorial(x,y))\n"
   ]
  },
  {
   "cell_type": "markdown",
   "metadata": {},
   "source": [
    "## Fuentes de consulta\n",
    "\n",
    "*https://stackoverflow.com/questions/9171158/how-do-you-get-the-magnitude-of-a-vector-in-numpy\n",
    "\n",
    "*https://matematicasmodernas.com/proyecciones-de-vectores/\n",
    "\n",
    "*https://prezi.com/hfxi9-z3gopq/proyeccion-de-vectores/"
   ]
  }
 ],
 "metadata": {
  "kernelspec": {
   "display_name": "Python 3",
   "language": "python",
   "name": "python3"
  },
  "language_info": {
   "codemirror_mode": {
    "name": "ipython",
    "version": 3
   },
   "file_extension": ".py",
   "mimetype": "text/x-python",
   "name": "python",
   "nbconvert_exporter": "python",
   "pygments_lexer": "ipython3",
   "version": "3.7.2"
  }
 },
 "nbformat": 4,
 "nbformat_minor": 2
}
