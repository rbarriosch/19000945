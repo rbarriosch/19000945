{
 "cells": [
  {
   "cell_type": "markdown",
   "metadata": {},
   "source": [
    "# Funciones en Python\n",
    "\n",
    "Una función es un bloque de código el cuál es ejecutado cuando es llamado o invocado. Las funciones son de gran ayuda para reutilizar código, por ejemplo, cuando se necesita realizar cierta operación varias ocasiones dentro de un rutina de software, podemos factorizar el código utilizando funciones. Ya existen funciones pre-definidas en Python, pero también podemos crear las propias. En este documento aprenderemos a declarar, programar y utilizar funciones en Python.\n",
    "\n",
    "### Declaración de funciones\n",
    "\n",
    "Para definir una función, esta debe iniciar con la palabra reservada **def** seguida de el nombre y paréntesis (), dentro de los cuales se definen los parámetros. Luego de la declaración de los parámetros se termina con \":\" y todo el contenido dentro del bloque debe estar indentado.\n",
    "\n",
    "#### Ejemplo:"
   ]
  },
  {
   "cell_type": "code",
   "execution_count": 1,
   "metadata": {},
   "outputs": [
    {
     "name": "stdout",
     "output_type": "stream",
     "text": [
      "Tarea 1 - Python\n"
     ]
    }
   ],
   "source": [
    "# Declarando la primera función\n",
    "def print_test(str):\n",
    "    print(str)\n",
    "    return;\n",
    "\n",
    "# Llamando a la función\n",
    "print_test(\"Tarea 1 - Python\")"
   ]
  },
  {
   "cell_type": "markdown",
   "metadata": {},
   "source": [
    "## Definir parámetros en las funciones\n",
    "Una función puede ser definida con parámetros o sin parámetros. Ya que en Python no se requiere la declaración del tipo de dato de las variables, la declaración se hace de la siguiente forma:\n",
    "\n",
    "def print_test(parametro1, parametro2 = 1, parametro(n)...) en donde parametro<secuencial> es un identificador. Como puenden observar, el parametro2 se definió con un valor default de 1. Esto no es común en muchos lenguajes de programación, pero quienes están familiarizados con SQL, esta es una propiedad que se utiliza ahí frecuentemente. Entonces, podemos decir que los argumentos de una función deben ser identificadores separados por coma, los cuales pueden o no tener un valor por defecto.\n",
    "\n",
    "#### Ejemplo:"
   ]
  },
  {
   "cell_type": "code",
   "execution_count": 2,
   "metadata": {},
   "outputs": [
    {
     "name": "stdout",
     "output_type": "stream",
     "text": [
      "Parámetro 1\n",
      "Valor por defecto\n",
      "Parámetro 1\n",
      "Parámetro 2\n"
     ]
    }
   ],
   "source": [
    "# Declarando una función con argumento sin default y uno con default\n",
    "def print_test2(str1, str2 = \"Valor por defecto\"):\n",
    "    print(str1)\n",
    "    print(str2)\n",
    "    return;\n",
    "\n",
    "# Llamando a la función anterior sin el segundo parámetro\n",
    "print_test2(\"Parámetro 1\")\n",
    "\n",
    "# Llamando a la función anterior con los dos parámetros\n",
    "print_test2(\"Parámetro 1\", \"Parámetro 2\")"
   ]
  },
  {
   "cell_type": "markdown",
   "metadata": {},
   "source": [
    "## Invocación de función con parámetros\n",
    "\n",
    "Los parámetros para invocar una función pueden ser enviados por posición o por nombre.\n",
    "\n",
    "### Parámetros posicionales\n",
    "Conocidos como \"Positional Arguments\". Podríamos decir que es la forma más común de transmitir los parámetros hacia una función. Básicamente, se trata de llamar a la función colocando los valores de los parámetros según como fueron definidos en la función.\n",
    "\n",
    "#### Ejemplo con la función definida arriba:"
   ]
  },
  {
   "cell_type": "code",
   "execution_count": 3,
   "metadata": {},
   "outputs": [
    {
     "name": "stdout",
     "output_type": "stream",
     "text": [
      "Posición parámetro 1\n",
      "Posición parámetro 2\n",
      "Únicamente parámetro 1\n",
      "Valor por defecto\n"
     ]
    }
   ],
   "source": [
    "# En este caso, str1 y str2 son los parámetros de la función, por lo tanto\n",
    "# Debemos hacer el llamado enviando los parámetros en el orden str1 y str2\n",
    "print_test2(\"Posición parámetro 1\", \"Posición parámetro 2\")\n",
    "\n",
    "# Ahora bien, en este caso, sólo enviaremos un parámetro, como estamos\n",
    "# Trabajando por posición, si sólo envío uno, este corresponde al parámetro uno\n",
    "print_test2(\"Únicamente parámetro 1\")"
   ]
  },
  {
   "cell_type": "markdown",
   "metadata": {},
   "source": [
    "### Parámetros nombrados\n",
    "Esta es una forma de invocar los parámetros que puede ser nueva para muchos de los programadores de lenguajes tradicionales. Haciendo uso de los \"Named Arguments\" podemos asignar valores a los parámetros de una función sin importar el orden en que se envíen.\n",
    "\n",
    "Es interesante también mencionar que en Python podemos definir funciones con argumentos de longitud variable, lo cual significa que se puede especificar cualquiér número de parámetros en este atributo. La declaración de este tipo de parámetros se realiza anteponiendo un asterisco * al identificador.\n",
    "\n",
    "#### Ejemplo con la función definida arriba:"
   ]
  },
  {
   "cell_type": "code",
   "execution_count": 4,
   "metadata": {},
   "outputs": [
    {
     "name": "stdout",
     "output_type": "stream",
     "text": [
      "Posición parámetro 1\n",
      "Posición parámetro 2\n",
      "Este es el parámetro 1\n",
      "Este es el parámetro 2\n"
     ]
    }
   ],
   "source": [
    "# Ejemplo en orden\n",
    "print_test2(\"Posición parámetro 1\", \"Posición parámetro 2\")\n",
    "\n",
    "# Ejemplo en desorden para ver como funcionan los Named Arguments\n",
    "print_test2(str2=\"Este es el parámetro 2\", str1='Este es el parámetro 1')"
   ]
  },
  {
   "cell_type": "markdown",
   "metadata": {},
   "source": [
    "### Retorno de múltiples valores\n",
    "Las funciones en Python pueden retornar múltiples valores. Esto no es muy común en muchos otros lenguajes, pero sabiendolo aprovechar, puede resultar en una gran funcionalidad.\n",
    "\n",
    "Los valores que se retornan deben estar separados por coma, con lo cuál Python construye y devuelve una tupla de resultado.\n",
    "\n",
    "#### Ejemplo:"
   ]
  },
  {
   "cell_type": "code",
   "execution_count": 5,
   "metadata": {},
   "outputs": [
    {
     "name": "stdout",
     "output_type": "stream",
     "text": [
      "6\n",
      "10\n"
     ]
    }
   ],
   "source": [
    "# Función que duplica el valor de los parámetros de entrada\n",
    "def funcion_duplica(valor1, valor2):\n",
    "    valor1 = valor1*2\n",
    "    valor2 = valor2*2\n",
    "    \n",
    "    return valor1, valor2;\n",
    "\n",
    "# Asignamos el resultado a una variable para poder acceder a cada elemento\n",
    "resultado = funcion_duplica(3,5)\n",
    "\n",
    "#Imprimimos los resultados\n",
    "print(resultado[0])\n",
    "print(resultado[1])"
   ]
  },
  {
   "cell_type": "markdown",
   "metadata": {},
   "source": [
    "### Funciones como objetos\n",
    "En Python la data es representada como objetos o como una relación entre ellos. El caso de las funciones no es diferente, nosotros podemos crear una función y asignarla a otra variables como cuando estuvieramos realizando una asignación cualquiera. En este caso los identificadores actúan como punteros hacia la definición del objeto. Veamos el siguiente ejemplo:"
   ]
  },
  {
   "cell_type": "code",
   "execution_count": 6,
   "metadata": {},
   "outputs": [
    {
     "name": "stdout",
     "output_type": "stream",
     "text": [
      "Falso\n",
      "Verdadero\n"
     ]
    }
   ],
   "source": [
    "# Declaramos una función nueva, en este caso evalúa el valor de verdad\n",
    "def es_cierto(parametro1):\n",
    "    if parametro1 == 1:\n",
    "        print(\"Verdadero\")\n",
    "    else:\n",
    "        print(\"Falso\")\n",
    "    return;\n",
    "\n",
    "# Ahora probemos asignarle el valor de es_cierto a una nueva variable\n",
    "es_cierto_dos = es_cierto\n",
    "\n",
    "# Ahora llamemos la función dos veces desde las dos distintas variables\n",
    "es_cierto(0)\n",
    "es_cierto_dos(1)"
   ]
  },
  {
   "cell_type": "markdown",
   "metadata": {},
   "source": [
    "## Funciones como parámetros de otras funciones\n",
    "\n",
    "Esta es una característica particularmente importante e interesante en Python. Las funciones, al ser objetos, pueden ser enviadas como parámetros hacia otras funciones.\n",
    "\n",
    "#### Ejemplo:"
   ]
  },
  {
   "cell_type": "code",
   "execution_count": 7,
   "metadata": {},
   "outputs": [
    {
     "data": {
      "text/plain": [
       "'tengo miedo, no me diga que me calme'"
      ]
     },
     "execution_count": 7,
     "metadata": {},
     "output_type": "execute_result"
    }
   ],
   "source": [
    "# Declaramos la siguiente función, la cual convierte el texto en minúsculas\n",
    "def convierte_a_minusculas(parametro1):\n",
    "    return parametro1.lower();\n",
    "\n",
    "# Hacemos la invocación para verificar como funciona\n",
    "convierte_a_minusculas('TENGO MIEDO, NO ME DIGA QUE ME CALME')"
   ]
  },
  {
   "cell_type": "code",
   "execution_count": 8,
   "metadata": {},
   "outputs": [
    {
     "data": {
      "text/plain": [
       "'hola mundo'"
      ]
     },
     "execution_count": 8,
     "metadata": {},
     "output_type": "execute_result"
    }
   ],
   "source": [
    "# Definimos otra función que recibe tres parámetros, uno de esos, la función\n",
    "def fun_llama_minusculas (parametro1, parametro2, parametro3):\n",
    "    return parametro1(parametro2) + parametro1(parametro3);\n",
    "\n",
    "# Hacemos la llamada a la función nueva\n",
    "fun_llama_minusculas(convierte_a_minusculas, \"HOLA \", \"MUNDO\")\n",
    "\n",
    "# Como resultado vemos las dos palabras en minúscula, concatenadas"
   ]
  },
  {
   "cell_type": "markdown",
   "metadata": {},
   "source": [
    "## Funciones anónimas o Lambda\n",
    "\n",
    "En Python, la palabra reservada **lambda** nos permite hacer declaraciones de pequeñas funciones anónimas. A diferencia de la declaración estándar, a estas no se les antepone la keyword \"def\". Permite reducir la cantidad de código generado e incluye la sentencia *return* de manera implícita.\n",
    "\n",
    "#### Ejemplo 1:"
   ]
  },
  {
   "cell_type": "code",
   "execution_count": 9,
   "metadata": {},
   "outputs": [
    {
     "data": {
      "text/plain": [
       "101"
      ]
     },
     "execution_count": 9,
     "metadata": {},
     "output_type": "execute_result"
    }
   ],
   "source": [
    "# Crearemos una función lambda y la asignaremos a una variable\n",
    "incrementar = lambda x: x + 1\n",
    "\n",
    "# Llamamos la función por medio de la variable\n",
    "incrementar(100)"
   ]
  },
  {
   "cell_type": "markdown",
   "metadata": {},
   "source": [
    "#### Ejemplo 2:"
   ]
  },
  {
   "cell_type": "code",
   "execution_count": 10,
   "metadata": {},
   "outputs": [
    {
     "data": {
      "text/plain": [
       "'HOLA MUNDO'"
      ]
     },
     "execution_count": 10,
     "metadata": {},
     "output_type": "execute_result"
    }
   ],
   "source": [
    "# Creamos la función lambda e inmediatamente la invocamos en una misma línea\n",
    "(lambda param1, param2: param1.upper() + param2.upper())(\"hola \", \"mundo\")"
   ]
  },
  {
   "cell_type": "markdown",
   "metadata": {},
   "source": [
    "## Fuentes de consulta\n",
    "\n",
    "*http://www.java2s.com/Code/Python/Function/Passfunctionasparameter2.htm\n",
    "\n",
    "*https://en.wikibooks.org/wiki/Python_Programming/Functions\n",
    "\n",
    "*https://dbader.org/blog/python-first-class-functions\n",
    "\n",
    "*https://dbader.org/blog/python-lambda-functions"
   ]
  }
 ],
 "metadata": {
  "kernelspec": {
   "display_name": "Python 3",
   "language": "python",
   "name": "python3"
  },
  "language_info": {
   "codemirror_mode": {
    "name": "ipython",
    "version": 3
   },
   "file_extension": ".py",
   "mimetype": "text/x-python",
   "name": "python",
   "nbconvert_exporter": "python",
   "pygments_lexer": "ipython3",
   "version": "3.7.1"
  }
 },
 "nbformat": 4,
 "nbformat_minor": 2
}
