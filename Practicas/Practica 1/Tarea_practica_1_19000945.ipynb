{
 "cells": [
  {
   "cell_type": "code",
   "execution_count": 45,
   "metadata": {},
   "outputs": [],
   "source": [
    "import validaciones"
   ]
  },
  {
   "cell_type": "markdown",
   "metadata": {},
   "source": [
    "# Ejercicios Python"
   ]
  },
  {
   "cell_type": "markdown",
   "metadata": {},
   "source": [
    "## Zen of Python\n",
    "\n",
    "Lee una vez mas el Zen of Python antes de iniciar con la tarea"
   ]
  },
  {
   "cell_type": "code",
   "execution_count": 46,
   "metadata": {},
   "outputs": [],
   "source": [
    "import this"
   ]
  },
  {
   "cell_type": "markdown",
   "metadata": {},
   "source": [
    "## 1 - XOR\n",
    "\n",
    "En la siguiente celda crea una funcion para la compuerta logica XOR \n",
    "\n",
    "<img src=\"assets/xor.png\" width=\"400\">\n"
   ]
  },
  {
   "cell_type": "code",
   "execution_count": 47,
   "metadata": {},
   "outputs": [],
   "source": [
    "def xor(a,b):\n",
    "    \"\"\"\n",
    "    Esta funcion recibe dos valores booleanos, ejemplo xor(1, 0) o True y False\n",
    "    y retorna 0 o 1 como resultado de la operacion logica XOR\n",
    "    \"\"\"\n",
    "    return int((a or b) & ((not a) | (not b)))"
   ]
  },
  {
   "cell_type": "code",
   "execution_count": 48,
   "metadata": {},
   "outputs": [
    {
     "data": {
      "text/plain": [
       "1"
      ]
     },
     "execution_count": 48,
     "metadata": {},
     "output_type": "execute_result"
    }
   ],
   "source": [
    "xor(0 , 1) "
   ]
  },
  {
   "cell_type": "code",
   "execution_count": 49,
   "metadata": {},
   "outputs": [
    {
     "data": {
      "text/plain": [
       "0"
      ]
     },
     "execution_count": 49,
     "metadata": {},
     "output_type": "execute_result"
    }
   ],
   "source": [
    "xor(0 , 0)"
   ]
  },
  {
   "cell_type": "code",
   "execution_count": 50,
   "metadata": {},
   "outputs": [
    {
     "data": {
      "text/plain": [
       "1"
      ]
     },
     "execution_count": 50,
     "metadata": {},
     "output_type": "execute_result"
    }
   ],
   "source": [
    "xor(True , False)"
   ]
  },
  {
   "cell_type": "markdown",
   "metadata": {},
   "source": [
    "### Pruebas  Automaticas\n",
    "\n",
    "Todas las pruebas deben funcionar para obetener los puntos del ejercicio."
   ]
  },
  {
   "cell_type": "code",
   "execution_count": 51,
   "metadata": {},
   "outputs": [
    {
     "name": "stdout",
     "output_type": "stream",
     "text": [
      "Prueba 1\n",
      "Prueba 1 [CORRECTA]\n",
      "Prueba 2\n",
      "Prueba 2 [CORRECTA]\n"
     ]
    }
   ],
   "source": [
    "validaciones.xor_function(xor)"
   ]
  },
  {
   "cell_type": "markdown",
   "metadata": {},
   "source": [
    "## 2 - Sumando N series\n",
    "\n",
    "Tenemos una secuencia cuyo $n^{th}$ es:\n",
    "\\begin{equation*}\n",
    "\\ T_n = n^2 - (n-1)^2\n",
    "\\end{equation*}\n",
    "\n",
    "Hay que evaluar las series:\n",
    "\\begin{equation*}\n",
    "\\ S_n = T_1 + T_2 + ... + T_n\n",
    "\\end{equation*}\n",
    "\n",
    "\n",
    "**Instrucciones**\n",
    "En la siguiente celda en la funcion summingSeries debemos **retornar** en valor de $S_n$, tenemos como entrada n\n",
    "\n",
    "**Ejemplo 1:**\n",
    "\n",
    "Si la entrada es 2\n",
    "\n",
    "Salida:\n",
    "4\n",
    "\n",
    "Explicacion:\n",
    "\n",
    "$T_1 = 1$\n",
    "\n",
    "$T_2 = 3$\n",
    "\n",
    "$S_2 = T_1 + T_2$\n",
    "\n",
    "$S_2 = 4 $\n",
    "\n",
    "\n",
    "\n",
    "**Tip :**\n",
    "Antes te implementar $S_n$ la solución, analicemos algebraicamente el problema para encontrar una solución equivalente optima.\n"
   ]
  },
  {
   "cell_type": "code",
   "execution_count": 52,
   "metadata": {},
   "outputs": [],
   "source": [
    "def summatoriaSerie(n):\n",
    "    return n**2\n",
    "\n",
    "    \"\"\"\n",
    "    Luego de tratar de resolverlo con recursión, la validación lanza un error en la prueba 5 y 6. Pero podemos simplificar la\n",
    "    la expresión T y la sumatoria S como el cuadrado del número N, es por eso que el return de la función es n**2\n",
    "\n",
    "    if n == 1:\n",
    "        return 1\n",
    "    else:\n",
    "        return (2*n - 1) + summatoriaSerie(n - 1);\n",
    "    \"\"\""
   ]
  },
  {
   "cell_type": "markdown",
   "metadata": {},
   "source": [
    "#### 2.1 - Ciclos\n",
    "\n",
    "Crea un ciclo for que imprima el resultado de la funcion **summingSeries** desde 1 hasta 10"
   ]
  },
  {
   "cell_type": "code",
   "execution_count": 53,
   "metadata": {},
   "outputs": [
    {
     "name": "stdout",
     "output_type": "stream",
     "text": [
      "1\n",
      "4\n",
      "9\n",
      "16\n",
      "25\n",
      "36\n",
      "49\n",
      "64\n",
      "81\n",
      "100\n"
     ]
    }
   ],
   "source": [
    "for i in range(1,11):\n",
    "    print(summatoriaSerie(i))"
   ]
  },
  {
   "cell_type": "markdown",
   "metadata": {},
   "source": [
    "### Pruebas  Automaticas\n",
    "\n",
    "Todas las pruebas deben funcionar para obetener los puntos del ejercicio.\n",
    "\n",
    "##### Importante :\n",
    "En este ejercicio se evalua que la funcion sea optima, el tiempo de ejecucion tiene que ser el menor posible, se va a evaluar el resultado correcto y el tiempo de ejecucion, si en alguna de las pruebas obtienes **[FALLO: TIMEOUT]** la funcion no es optima debes cambiarla hasta que todas las pruebas pasen"
   ]
  },
  {
   "cell_type": "code",
   "execution_count": 54,
   "metadata": {},
   "outputs": [
    {
     "name": "stdout",
     "output_type": "stream",
     "text": [
      "Prueba 1\n",
      "Prueba 1[CORRECTA]\n",
      "Prueba 2\n",
      "Prueba 2[CORRECTA]\n",
      "Prueba 3\n",
      "Prueba 3[CORRECTA]\n",
      "Prueba 4\n",
      "Prueba 4[CORRECTA]\n",
      "Prueba 5\n",
      "Prueba 5[CORRECTA]\n",
      "Prueba 6\n",
      "Prueba 6[CORRECTA]\n"
     ]
    }
   ],
   "source": [
    "validaciones.summingSeries_function(summatoriaSerie)"
   ]
  },
  {
   "cell_type": "markdown",
   "metadata": {},
   "source": [
    "## 3 - Factores Primos\n",
    "\n",
    "Para cada $n$ queremos obtener el conteo maximo de numeros primos unicos en en rango inclusivo $[1, n]$,\n",
    "y retornar el valor del conteo en una nueva linea\n",
    "\n",
    "**Nota:** Recuerda que un numero primo solo es divisible por el mismo y que 1 no es un numero primo\n",
    "\n",
    "##### Ejemplos:\n",
    "\n",
    "###### Ejemplo 1\n",
    "Entrada: 1\n",
    "\n",
    "Salida esperada: 1\n",
    "\n",
    "Explicacion: El numero maximo de factores primos unicos en el rango inclusivo $[1,1]$ es $0$, porque $1$ no es un numero primo.\n",
    "\n",
    "###### Ejemplo 2\n",
    "Entrada: 3\n",
    "\n",
    "Salida esperada: 1\n",
    "\n",
    "Explicacion: El numero maximo de factores primos unicos en el rango inclusivo $[1,3]$ es $1$, porque el numero $3$ tiene 1 factor primo unico (el mismo) \n",
    "\n",
    "###### Ejemplo 3\n",
    "Entrada: 500\n",
    "\n",
    "Salida esperada: 4\n",
    "\n",
    "Explicacion: El numero maximo de factores primos unicos en el rango inclusivo $[1,500]$ es $4$, porque el producto de los primeros cuatro numeros primos unicos es $2 \\times 3 \\times 5 \\times 7 = 210$ y no hay ningun numero primo unico que multiplicado por el resultado sea $\t\\leqslant 500$\n",
    "\n",
    "\n",
    "\n",
    "#### Tip: \n",
    "Utiliza la funcion `range()` de python\n"
   ]
  },
  {
   "cell_type": "code",
   "execution_count": 55,
   "metadata": {},
   "outputs": [],
   "source": [
    "# Calcular los factores\n",
    "def conteoPrimos(n):\n",
    "    contador = 0\n",
    "    multiplicador = 1\n",
    "    \n",
    "    if n == 1:\n",
    "        return 0\n",
    "    elif n == 2:\n",
    "        return 1\n",
    "\n",
    "    for i in range(2,n):\n",
    "        if esPrimo(i) == True:\n",
    "            multiplicador *= i\n",
    "            if multiplicador <= n:\n",
    "                contador+=1\n",
    "            else:\n",
    "                break\n",
    "    return contador;\n",
    "\n",
    "# Calcular si un número es primo\n",
    "# Sabiendo que:\n",
    "# -Un número primo solo es divisible exactamente por él mismo y la unidad\n",
    "# -El uno no es un número primo\n",
    "# -El dos es el primer número primo\n",
    "\n",
    "def esPrimo(x):\n",
    "    es_primo = True\n",
    "\n",
    "    if x == 1:\n",
    "        return not es_primo\n",
    "    elif x == 2:\n",
    "        return es_primo\n",
    "    \n",
    "    for i in range(2,x):\n",
    "        if (x % i) == 0:\n",
    "            es_primo = False\n",
    "            break;\n",
    "    return es_primo;\n"
   ]
  },
  {
   "cell_type": "markdown",
   "metadata": {},
   "source": [
    "### Pruebas"
   ]
  },
  {
   "cell_type": "code",
   "execution_count": 56,
   "metadata": {},
   "outputs": [
    {
     "data": {
      "text/plain": [
       "0"
      ]
     },
     "execution_count": 56,
     "metadata": {},
     "output_type": "execute_result"
    }
   ],
   "source": [
    "conteoPrimos(1)"
   ]
  },
  {
   "cell_type": "code",
   "execution_count": 57,
   "metadata": {},
   "outputs": [
    {
     "data": {
      "text/plain": [
       "4"
      ]
     },
     "execution_count": 57,
     "metadata": {},
     "output_type": "execute_result"
    }
   ],
   "source": [
    "conteoPrimos(500)"
   ]
  },
  {
   "cell_type": "markdown",
   "metadata": {},
   "source": [
    "### Pruebas  Automaticas\n",
    "\n",
    "Todas las pruebas deben funcionar para obetener los puntos del ejercicio.\n",
    "\n",
    "##### Importante :\n",
    "En este ejercicio se evalua que la funcion sea optima, el tiempo de ejecucion tiene que ser el menor posible, se va a evaluar el resultado correcto y el tiempo de ejecucion, si en alguna de las pruebas obtienes **[FALLO: TIMEOUT]** la funcion no es optima debes cambiarla hasta que todas las pruebas pasen"
   ]
  },
  {
   "cell_type": "code",
   "execution_count": 58,
   "metadata": {},
   "outputs": [
    {
     "name": "stdout",
     "output_type": "stream",
     "text": [
      "Prueba 1\n",
      "Prueba 1[CORRECTA]\n",
      "Prueba 2\n",
      "Prueba 2[CORRECTA]\n",
      "Prueba 3\n",
      "Prueba 3[CORRECTA]\n",
      "Prueba 4\n",
      "Prueba 4[CORRECTA]\n",
      "Prueba 5\n",
      "Prueba 5[CORRECTA]\n",
      "Prueba 6\n",
      "Prueba 6[CORRECTA]\n",
      "Prueba 7\n",
      "Prueba 7[CORRECTA]\n",
      "Prueba 8\n",
      "Prueba 8[CORRECTA]\n",
      "Prueba 9\n",
      "Prueba 9[CORRECTA]\n",
      "Prueba 10\n",
      "Prueba 10[CORRECTA]\n",
      "Prueba 11\n",
      "Prueba 11[CORRECTA]\n",
      "Prueba 12\n",
      "Prueba 12[CORRECTA]\n"
     ]
    }
   ],
   "source": [
    "validaciones.primeCount_function(conteoPrimos)"
   ]
  },
  {
   "cell_type": "markdown",
   "metadata": {},
   "source": [
    "## 4 - Metodo de Euler\n",
    "\n",
    "El metodo de Euler se utiliza para aproximar la solucion particular de una ecuacion diferencial dado un valor inicial. Con esta informacion se sabe que la grafica de esa solucion pasa a traves del punto $(x_0,y_0)$ y tiene una pendiente $F(x_0,y_0)$ en ese punto, esto da un punto de partida para aproximar la solucion.\n",
    "\n",
    "A partir del punto inicial, se sigue en la direccion indicada por la pendiente. Mediante un pequeño paso $h$, se mueve a lo largo de la recta tangente hasta llegar al punto $(x_1,y_1)$ donde:\n",
    "\\begin{equation*}\n",
    "\\ x_1 = x_0 + h       \\\\\n",
    "\\ y_1 = y_0 + hF(x_0,y_0)\\\\\n",
    "\\end{equation*}\n",
    "\n",
    "\n",
    "<img src=\"assets/Euler.png\" width=\"350\">\n",
    "\n",
    "Como se muestra en la figura se considera $(x_1,y_1)$ como un nuevo punto inicial.\n",
    "\n",
    "Los valores de $x$ son:\n",
    "\\begin{equation*}\n",
    "\\ x_1 = x_0 + h       \\\\\n",
    "\\ x_2 = x_1 + h       \\\\\n",
    "\\    .                \\\\\n",
    "\\    .                \\\\\n",
    "\\    .                \\\\\n",
    "\\ x_n = x_{n-1} + h   \\\\\n",
    "\\end{equation*}\n",
    "\n",
    "\n",
    "Los valores de $y$ son:\n",
    "\\begin{equation*}\n",
    "\\ y_1 = y_0 + hF(x_0,y_0)\\\\\n",
    "\\ y_1 = y_1 + hF(x_1,y_1)\\\\\n",
    "\\       . \\\\\n",
    "\\       . \\\\\n",
    "\\       . \\\\\n",
    "\\ y_n = y_{n-1} + hF(x_{n-1},y_{n-1})\\\\\n",
    "\\end{equation*}\n",
    "\n",
    "\n",
    "#### Problema 4\n",
    "El ejecicio consiste en implementar la funcion *euler_metod* esta funcion recibe como parametro el \n",
    "* punto inicial $x_0$\n",
    "* punto inicial $y_0$\n",
    "* Paso $h$ \n",
    "* numero de iteraciones $n$ \n",
    "* La equacion diferencial que queremos aproximar, esta funcion tambien recibe los parametros $x$ y $y$\n",
    "* La funcion de la solucion exacta que tambien tambien recibe los parametros $x$ y $y$\n",
    "\n",
    "La funcion debe retornar el valor de $y_n$ y el error\n",
    "$error=|y - y_n|$ "
   ]
  },
  {
   "cell_type": "code",
   "execution_count": 59,
   "metadata": {},
   "outputs": [],
   "source": [
    "import math"
   ]
  },
  {
   "cell_type": "code",
   "execution_count": 60,
   "metadata": {},
   "outputs": [],
   "source": [
    "# La función imprime los resultados necesarios para completar la tabla en tipo Markdown\n",
    "\n",
    "def euler_method(x,y,h,n, diff_eq, func):\n",
    "    for i in range(0,n+1):\n",
    "        print(round(x,1), round(func(x),4), round(y,4), round(abs(func(x) - y),4))\n",
    "        y = y + h*(diff_eq(x, y))\n",
    "        x = x + h\n"
   ]
  },
  {
   "cell_type": "markdown",
   "metadata": {},
   "source": [
    "### Ejemplo\n",
    "\n",
    "Queremos aproximar la solucion particular de la ecuacion diferencial\n",
    "\\begin{equation*}\n",
    "\\ \\frac{\\partial y}{\\partial x} = -2y \\\\\n",
    "\\end{equation*}\n",
    "Donde $y(0) = 4$ vamos a unsa un de $h=0.1$\n",
    "\n",
    "Tambien vamos a calcular el error en este caso podemos verificar el error  con la solucion exacta:\n",
    "\\begin{equation*}\n",
    "\\ y = 4e^{-2x} \\\\\n",
    "\\end{equation*}"
   ]
  },
  {
   "cell_type": "code",
   "execution_count": 61,
   "metadata": {},
   "outputs": [],
   "source": [
    "### Implementando las funciones del ejemplo\n",
    "def y_prime(x, y):\n",
    "    return -2*y\n",
    "\n",
    "def y(x):\n",
    "    return 4 * math.exp(-2*x)"
   ]
  },
  {
   "cell_type": "code",
   "execution_count": 62,
   "metadata": {},
   "outputs": [
    {
     "name": "stdout",
     "output_type": "stream",
     "text": [
      "Resultados en orden: X, Y, Yn, Error\n",
      "\n",
      "0 4.0 4 0.0\n",
      "0.1 3.2749 3.2 0.0749\n",
      "0.2 2.6813 2.56 0.1213\n",
      "0.3 2.1952 2.048 0.1472\n",
      "0.4 1.7973 1.6384 0.1589\n",
      "0.5 1.4715 1.3107 0.1608\n",
      "0.6 1.2048 1.0486 0.1562\n",
      "0.7 0.9864 0.8389 0.1475\n",
      "0.8 0.8076 0.6711 0.1365\n",
      "0.9 0.6612 0.5369 0.1243\n",
      "1.0 0.5413 0.4295 0.1118\n"
     ]
    }
   ],
   "source": [
    "\"\"\"\n",
    "Llamamos a la funcion de euler\n",
    "euler_method(0,4,0.1,10, y_prime,y)\n",
    "Parametros :\n",
    "x = 0\n",
    "y = 4\n",
    "d = 0.1\n",
    "n = 10\n",
    "diff_eq = y_prime\n",
    "func = y\n",
    "\"\"\"\n",
    "\n",
    "print(\"Resultados en orden: X, Y, Yn, Error\\n\")\n",
    "euler_method(0,4,0.1,10, y_prime,y)"
   ]
  },
  {
   "cell_type": "markdown",
   "metadata": {},
   "source": [
    "### Solucion:\n",
    "\n",
    "Utiliza esta tabla como guia para validar que tu funcion este correcta,\n",
    "y reemplaza los valores que faltan con la salida de tu funcion.\n",
    "\n",
    "| x     | 0 | 0.1         | 0.2    | 0.4    | 0.6    | 0.8    | 1            |\n",
    "|-------|---|-------------|--------|--------|--------|--------|--------------|\n",
    "| y     | 4 | 3.2749      | 2.6813 | 1.7973 | 1.2048 | 0.8076 | 0.5413       |\n",
    "| $y_n$ | 4 | 3.2         | 2.56   | 1.6384 | 1.0486 | 0.6711 | 0.4295       |\n",
    "| error | 0 | 0.0749      | 0.1213 | 0.1589 | 0.1562 | 0.1365 | 0.1118       |"
   ]
  },
  {
   "cell_type": "markdown",
   "metadata": {},
   "source": [
    "### 4.1 Probando la implementacion con una aplicación real de data science\n",
    "\n",
    "Podemos utilizar ecuaciones diferenciales  como modelos matemáticos de fenónemos reales, por ejemplo si llegas a trabajar como data scientist para una farmaceutica  puede que interese analizar la desintegración radioactiva de cierta sustancia y como esto cambia en el tiempo\n",
    "#### Desintegracion Radiactiva\n",
    "\n",
    "$A$ es la cantidad de sustancia en el tiempo $t$, la derivada $\\frac{\\partial A}{\\partial t}$ es rapidez a la que se desintegran los nucleos de una sustancia.\n",
    "\n",
    "Queremos aproximar la solucion particular de la ecuacion diferencial\n",
    "\\begin{equation*}\n",
    "\\ \\frac{\\partial A}{\\partial t} =  -0.56A \\\\\n",
    "\\end{equation*}\n",
    "Donde $A(0) = 1$ vamos a un tamaño de $h=0.1$\n",
    "\n",
    "Tambien vamos a calcular el error en este caso podemos verificar el error  con la solucion exacta:\n",
    "\\begin{equation*}\n",
    "\\ A(t) = e^{-0.56t} \\\\\n",
    "\\end{equation*}\n",
    "\n",
    "**Nota** En este caso sencillo, poseemos la solución exacta a la ED por lo cual no se necesita una solución aproximada , pero en aplicaciones y proyectos reales muchas veces la solución exacta no se posee, o es muy difícil de calcular y recurrimos a soluciones aproximadas por computadora , para este ejercicio el saber la solución exacta nos sirve para medir la exactitud de nuestra solución aproximada."
   ]
  },
  {
   "cell_type": "code",
   "execution_count": 63,
   "metadata": {},
   "outputs": [],
   "source": [
    "def A_prime(t, A):\n",
    "    return -0.56*A\n",
    "\n",
    "def A(t):\n",
    "    return math.exp(-0.56*t)"
   ]
  },
  {
   "cell_type": "code",
   "execution_count": 64,
   "metadata": {},
   "outputs": [
    {
     "name": "stdout",
     "output_type": "stream",
     "text": [
      "Resultados en orden: X, Y, Yn, Error\n",
      "\n",
      "0 1.0 1 0.0\n",
      "0.1 0.9455 0.944 0.0015\n",
      "0.2 0.894 0.8911 0.0029\n",
      "0.3 0.8454 0.8412 0.0041\n",
      "0.4 0.7993 0.7941 0.0052\n",
      "0.5 0.7558 0.7497 0.0061\n",
      "0.6 0.7146 0.7077 0.007\n",
      "0.7 0.6757 0.668 0.0077\n",
      "0.8 0.6389 0.6306 0.0083\n",
      "0.9 0.6041 0.5953 0.0088\n",
      "1.0 0.5712 0.562 0.0092\n"
     ]
    }
   ],
   "source": [
    "print(\"Resultados en orden: X, Y, Yn, Error\\n\")\n",
    "euler_method(0,1,0.1,10, A_prime,A)"
   ]
  },
  {
   "cell_type": "markdown",
   "metadata": {},
   "source": [
    "### Solucion 4.1:\n",
    "\n",
    "Tabla de resultados para el ejercicio 4.1 de Desintegracion Radiactiva\n",
    "\n",
    "| t     | 0 | 0.1         | 0.2    | 0.4    | 0.6    | 0.8    | 1            |\n",
    "|-------|---|-------------|--------|--------|--------|--------|--------------|\n",
    "| a     | 1 | 0.9455      | 0.894  | 0.7993 | 0.7146 | 0.6389 | 0.5712       |\n",
    "| $y_n$ | 1 | 0.944       | 0.8911 | 0.7941 | 0.7077 | 0.6306 | 0.562        |\n",
    "| error | 0 | 0.0015      | 0.0029 | 0.0052 | 0.007  | 0.0083 | 0.0092       |"
   ]
  },
  {
   "cell_type": "markdown",
   "metadata": {},
   "source": [
    "## 5 - Rotacion de listas hacia la izquierda\n",
    "\n",
    "Una rotacion a la izquierda en una lista mueve cada elemento de la lista una vez hacia la izquierda. Por ejemplo, si hacemos $1$ rotacion en en el arreglo $[1,2,3,4,5]$, el arreglo resultante seria $[2,3,4,5,1]$\n",
    "\n",
    "#### Descipcion de la funcion\n",
    "Dado un arreglo $a$ de $n$ integers y un numero $d$ de rotaciones, realizar $d$ rotaciones hacia la izquierda. La funcion debe retorner el arreglo re-ordenado.\n",
    "\n",
    "**rotIzquierda** tiene los siguientes parametros:\n",
    "\n",
    "* $a$ Un arreglo de numeros entreros.\n",
    "* $d$ numero de rotaciones."
   ]
  },
  {
   "cell_type": "code",
   "execution_count": 65,
   "metadata": {},
   "outputs": [],
   "source": [
    "def rotIzquierda(a, d):\n",
    "    movimientos_reales = d%len(a)\n",
    "\n",
    "    slice_movimientos = slice(movimientos_reales)\n",
    "    a.extend(a[slice_movimientos])\n",
    "    del a[0:movimientos_reales]\n",
    "\n",
    "    return a"
   ]
  },
  {
   "cell_type": "code",
   "execution_count": 66,
   "metadata": {},
   "outputs": [
    {
     "data": {
      "text/plain": [
       "[5, 1, 2, 3, 4]"
      ]
     },
     "execution_count": 66,
     "metadata": {},
     "output_type": "execute_result"
    }
   ],
   "source": [
    "rotIzquierda([1, 2, 3, 4, 5], 4)\n",
    "# Resultado: [5, 1, 2, 3, 4]"
   ]
  },
  {
   "cell_type": "markdown",
   "metadata": {},
   "source": [
    "### Pruebas  Automaticas\n",
    "\n",
    "Todas las pruebas deben funcionar para obetener los puntos del ejercicio.\n",
    "\n",
    "##### Importante :\n",
    "En este ejercicio se evalua que la funcion sea optima, el tiempo de ejecucion tiene que ser el menor posible, se va a evaluar el resultado correcto y el tiempo de ejecucion, si en alguna de las pruebas obtienes **[FALLO: TIMEOUT]** la funcion no es optima debes cambiarla hasta que todas las pruebas pasen\n",
    "\n",
    "#### TIP:\n",
    "Utiliza **slice** en el array para optimizar la funcion"
   ]
  },
  {
   "cell_type": "code",
   "execution_count": 67,
   "metadata": {},
   "outputs": [
    {
     "name": "stdout",
     "output_type": "stream",
     "text": [
      "Prueba 1\n",
      "Prueba 1[CORRECTA]\n",
      "Prueba 2\n",
      "Prueba 2[CORRECTA]\n",
      "Prueba 3\n",
      "Prueba 3[CORRECTA]\n"
     ]
    }
   ],
   "source": [
    "validaciones.rotIzquierda_function(rotIzquierda)"
   ]
  },
  {
   "cell_type": "code",
   "execution_count": null,
   "metadata": {},
   "outputs": [],
   "source": []
  }
 ],
 "metadata": {
  "kernelspec": {
   "display_name": "Python 3",
   "language": "python",
   "name": "python3"
  },
  "language_info": {
   "codemirror_mode": {
    "name": "ipython",
    "version": 3
   },
   "file_extension": ".py",
   "mimetype": "text/x-python",
   "name": "python",
   "nbconvert_exporter": "python",
   "pygments_lexer": "ipython3",
   "version": "3.7.1"
  }
 },
 "nbformat": 4,
 "nbformat_minor": 2
}
