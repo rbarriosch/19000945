{
 "cells": [
  {
   "cell_type": "markdown",
   "metadata": {},
   "source": [
    "## TAREA 1 - 19000945"
   ]
  },
  {
   "cell_type": "code",
   "execution_count": 122,
   "metadata": {
    "scrolled": true
   },
   "outputs": [
    {
     "name": "stdout",
     "output_type": "stream",
     "text": [
      "The tensorboard.notebook extension is already loaded. To reload it, use:\n",
      "  %reload_ext tensorboard.notebook\n"
     ]
    },
    {
     "data": {
      "image/png": "[encoded data removed]",
      "text/plain": [
       "<Figure size 432x288 with 1 Axes>"
      ]
     },
     "metadata": {
      "needs_background": "light"
     },
     "output_type": "display_data"
    }
   ],
   "source": [
    "import numpy as np \n",
    "import tensorflow as tf \n",
    "import matplotlib.pyplot as plt\n",
    "%load_ext tensorboard.notebook\n",
    "\n",
    "# Cargar el dataset de entrenamiento\n",
    "dataset = np.load('proyecto_training_data.npy') \n",
    "\n",
    "# Crear el dataset con el 80% de datos\n",
    "dataset_size = np.size(dataset, 0)\n",
    "dataset80 = dataset[0:int(dataset_size*0.8)]\n",
    "\n",
    "# Variable X con mayor correlación OverallQual\n",
    "x = dataset80[:,1]\n",
    "\n",
    "# Valor de Y\n",
    "y = dataset80[:,0]\n",
    "\n",
    "# Cantidad de data en X\n",
    "n = len(x)\n",
    "\n",
    "# Graficar la data de entrenamiento\n",
    "plt.scatter(x, y) \n",
    "plt.xlabel('x') \n",
    "plt.xlabel('y') \n",
    "plt.title(\"Data de entrenamiento\") \n",
    "plt.show()\n",
    "\n",
    "# Definir gráficas\n",
    "g = tf.Graph()"
   ]
  },
  {
   "cell_type": "code",
   "execution_count": 123,
   "metadata": {},
   "outputs": [],
   "source": [
    "def training_function(lr = 0.01):\n",
    "    with g.as_default():\n",
    "        X = tf.placeholder(\"float\") \n",
    "        Y = tf.placeholder(\"float\")\n",
    "\n",
    "        M = tf.Variable(0.0, name = \"M\") \n",
    "        b = tf.Variable(0.0, name = \"b\")\n",
    "\n",
    "        learning_rate = lr\n",
    "        training_epochs = 10000\n",
    "\n",
    "        # Definición de Hipótesis\n",
    "        with tf.name_scope(\"hipotesis\"):\n",
    "            y_hat = tf.add(tf.multiply(X, M), b) \n",
    "\n",
    "        # Función de costo mínimos cuadrados\n",
    "        with tf.name_scope(\"minimoscuadrados\"):\n",
    "            cost = tf.reduce_mean(tf.pow(y_hat-Y, 2)) / (2 * n) \n",
    "\n",
    "        # Gradient Descent\n",
    "        optimizer = tf.train.GradientDescentOptimizer(learning_rate).minimize(cost) \n",
    "\n",
    "        # Inicializador de variables globales\n",
    "        init = tf.global_variables_initializer()\n",
    "\n",
    "        #with tf.Session() as sess:\n",
    "        with tf.Session(graph=g) as sess:\n",
    "            sess.run(init)\n",
    "\n",
    "            \n",
    "            for epoch in range(training_epochs):\n",
    "                sess.run(optimizer, feed_dict = {X : x, Y : y})\n",
    "\n",
    "                # Desplegar resultado cada 1500 epochs\n",
    "                if (epoch + 1) % 1500 == 0:\n",
    "                    c = sess.run(cost, feed_dict = {X : x, Y : y}) \n",
    "                    print(\"Epoch\", (epoch + 1), \": Costo =\", c, \"- M =\", sess.run(M), \"- b =\", sess.run(b))\n",
    "                        \n",
    "            writer = tf.summary.FileWriter('./graphs', g)\n",
    "            writer.close()\n",
    "\n",
    "            # Almacenar variables fuera de la sesión\n",
    "            training_cost = sess.run(cost, feed_dict ={X: x, Y: y}) \n",
    "            m_parameter = sess.run(M) \n",
    "            b_parameter = sess.run(b)\n",
    "\n",
    "        print(\"Costo entrenamiento=\", training_cost, \"- Valor M =\", m_parameter, \"- Valor b =\", b_parameter, '\\n') \n",
    "    "
   ]
  },
  {
   "cell_type": "markdown",
   "metadata": {},
   "source": [
    "## Grafo\n",
    "<img src=\"grafo.PNG\">"
   ]
  },
  {
   "cell_type": "code",
   "execution_count": 124,
   "metadata": {},
   "outputs": [
    {
     "name": "stdout",
     "output_type": "stream",
     "text": [
      "Epoch 1500 : Costo = 1044825.9 - M = 36819.203 - b = -41439.145\n",
      "Epoch 3000 : Costo = 1000579.8 - M = 40734.582 - b = -66514.21\n",
      "Epoch 4500 : Costo = 987469.1 - M = 42865.895 - b = -80163.67\n",
      "Epoch 6000 : Costo = 983584.56 - M = 44026.027 - b = -87593.48\n",
      "Epoch 7500 : Costo = 982433.6 - M = 44657.543 - b = -91637.85\n",
      "Epoch 9000 : Costo = 982092.06 - M = 45001.305 - b = -93839.38\n",
      "Costo entrenamiento= 982012.5 - Valor M = 45138.184 - Valor b = -94715.99 \n",
      "\n"
     ]
    }
   ],
   "source": [
    "training_function(10)"
   ]
  },
  {
   "cell_type": "code",
   "execution_count": 125,
   "metadata": {},
   "outputs": [
    {
     "name": "stdout",
     "output_type": "stream",
     "text": [
      "Epoch 1500 : Costo = 1169851.5 - M = 30557.559 - b = -1338.057\n",
      "Epoch 3000 : Costo = 1148335.6 - M = 31433.879 - b = -6950.267\n",
      "Epoch 4500 : Costo = 1129283.0 - M = 32258.504 - b = -12231.382\n",
      "Epoch 6000 : Costo = 1112411.6 - M = 33034.492 - b = -17200.926\n",
      "Epoch 7500 : Costo = 1097473.4 - M = 33764.64 - b = -21877.21\n",
      "Epoch 9000 : Costo = 1084244.9 - M = 34451.77 - b = -26277.62\n",
      "Costo entrenamiento= 1076279.0 - Valor M = 34887.16 - Valor b = -29066.053 \n",
      "\n"
     ]
    }
   ],
   "source": [
    "training_function(1)"
   ]
  },
  {
   "cell_type": "code",
   "execution_count": 126,
   "metadata": {},
   "outputs": [
    {
     "name": "stdout",
     "output_type": "stream",
     "text": [
      "Epoch 1500 : Costo = 1192099.2 - M = 29551.059 - b = 3986.4846\n",
      "Epoch 3000 : Costo = 1189051.6 - M = 29816.098 - b = 3403.8796\n",
      "Epoch 4500 : Costo = 1186548.8 - M = 29911.447 - b = 2798.646\n",
      "Epoch 6000 : Costo = 1184076.9 - M = 30005.312 - b = 2197.0564\n",
      "Epoch 7500 : Costo = 1181633.2 - M = 30099.062 - b = 1599.0206\n",
      "Epoch 9000 : Costo = 1179219.2 - M = 30191.85 - b = 1004.4336\n",
      "Costo entrenamiento= 1177626.2 - Valor M = 30253.35 - Valor b = 610.0931 \n",
      "\n"
     ]
    }
   ],
   "source": [
    "training_function(0.1)"
   ]
  },
  {
   "cell_type": "code",
   "execution_count": 127,
   "metadata": {},
   "outputs": [
    {
     "name": "stdout",
     "output_type": "stream",
     "text": [
      "Epoch 1500 : Costo = 6703387.0 - M = 11929.174 - b = 1799.7446\n",
      "Epoch 3000 : Costo = 3161668.2 - M = 19062.736 - b = 2850.7104\n",
      "Epoch 4500 : Costo = 1896375.5 - M = 23330.088 - b = 3454.1667\n",
      "Epoch 6000 : Costo = 1444235.6 - M = 25884.416 - b = 3790.1777\n",
      "Epoch 7500 : Costo = 1282563.5 - M = 27414.91 - b = 3966.3577\n",
      "Epoch 9000 : Costo = 1224648.9 - M = 28333.475 - b = 4047.0242\n",
      "Costo entrenamiento= 1208568.2 - Valor M = 28732.066 - Valor b = 4067.4443 \n",
      "\n"
     ]
    }
   ],
   "source": [
    "training_function(0.01)"
   ]
  },
  {
   "cell_type": "code",
   "execution_count": 128,
   "metadata": {},
   "outputs": [
    {
     "name": "stdout",
     "output_type": "stream",
     "text": [
      "Epoch 1500 : Costo = 15109320.0 - M = 1487.0751 - b = 225.90436\n",
      "Epoch 3000 : Costo = 13748282.0 - M = 2899.6045 - b = 440.16916\n",
      "Epoch 4500 : Costo = 12520356.0 - M = 4241.3257 - b = 643.3776\n",
      "Epoch 6000 : Costo = 11412532.0 - M = 5515.794 - b = 836.085\n",
      "Epoch 7500 : Costo = 10413058.0 - M = 6726.3784 - b = 1018.8182\n",
      "Epoch 9000 : Costo = 9511338.0 - M = 7876.2827 - b = 1192.077\n",
      "Costo entrenamiento= 8959739.0 - Valor M = 8610.688 - Valor b = 1302.5549 \n",
      "\n"
     ]
    }
   ],
   "source": [
    "training_function(0.001)"
   ]
  },
  {
   "cell_type": "code",
   "execution_count": 129,
   "metadata": {},
   "outputs": [
    {
     "name": "stdout",
     "output_type": "stream",
     "text": [
      "Epoch 1500 : Costo = 16459971.0 - M = 152.17036 - b = 23.131138\n",
      "Epoch 3000 : Costo = 16303653.0 - M = 303.56024 - b = 46.14038\n",
      "Epoch 4500 : Costo = 16148929.0 - M = 454.17334 - b = 69.0284\n",
      "Epoch 6000 : Costo = 15995797.0 - M = 604.0142 - b = 91.795715\n",
      "Epoch 7500 : Costo = 15844229.0 - M = 753.08496 - b = 114.44307\n",
      "Epoch 9000 : Costo = 15694208.0 - M = 901.39246 - b = 136.97119\n",
      "Costo entrenamiento= 15595053.0 - Valor M = 999.84094 - Valor b = 151.92361 \n",
      "\n"
     ]
    }
   ],
   "source": [
    "training_function(0.0001)"
   ]
  },
  {
   "cell_type": "markdown",
   "metadata": {},
   "source": [
    "### Como conclusión podemos observar como el hiperparámetro del LR tiene una gran influencia en la rapidez con que converge la función de entrenamiento. En este caso, el LR de 10 aproximó de mejor forma para los parámetros M y b.\n",
    "\n",
    "### El lr ayuda a definir la longitud de los pasos con los que la función se acerca al mínimo cuadrado, si definimos un valor muy grande, puede que nunca logremos llegar a ese mínimo. Por otro lado, si definimos un LR demasiado bajo, se pueden necesitar muchos epochs para alcanzar el objetivo."
   ]
  },
  {
   "cell_type": "code",
   "execution_count": null,
   "metadata": {},
   "outputs": [],
   "source": []
  }
 ],
 "metadata": {
  "kernelspec": {
   "display_name": "Python 3",
   "language": "python",
   "name": "python3"
  },
  "language_info": {
   "codemirror_mode": {
    "name": "ipython",
    "version": 3
   },
   "file_extension": ".py",
   "mimetype": "text/x-python",
   "name": "python",
   "nbconvert_exporter": "python",
   "pygments_lexer": "ipython3",
   "version": "3.7.3"
  }
 },
 "nbformat": 4,
 "nbformat_minor": 2
}
